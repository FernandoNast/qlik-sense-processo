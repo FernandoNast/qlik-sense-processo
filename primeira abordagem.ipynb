{
 "cells": [
  {
   "cell_type": "code",
   "execution_count": 1,
   "metadata": {},
   "outputs": [],
   "source": [
    "import pandas as pd\n",
    "import matplotlib.pyplot as plt\n",
    "%matplotlib inline\n",
    "import seaborn as sns"
   ]
  },
  {
   "cell_type": "markdown",
   "metadata": {},
   "source": [
    "# 0. Carregando os arquivos"
   ]
  },
  {
   "cell_type": "code",
   "execution_count": 2,
   "metadata": {},
   "outputs": [],
   "source": [
    "## CSV\n",
    "fatoDet0 = pd.read_csv('Processado/FatoDetalhes_DadosModelagem.csv',sep=';')\n",
    "## TXT\n",
    "fatoCab0 = pd.read_csv('Processado/FatoCabecalho_DadosModelagem.txt',sep='\\t')\n",
    "## EXCEL\n",
    "dim0     = pd.read_excel('Processado/Dimensoes_DadosModelagem.xlsx')"
   ]
  },
  {
   "cell_type": "markdown",
   "metadata": {},
   "source": [
    "# 1. Vendo Fato Detalhes (produto)"
   ]
  },
  {
   "cell_type": "code",
   "execution_count": 3,
   "metadata": {},
   "outputs": [
    {
     "data": {
      "text/html": [
       "<div>\n",
       "<style scoped>\n",
       "    .dataframe tbody tr th:only-of-type {\n",
       "        vertical-align: middle;\n",
       "    }\n",
       "\n",
       "    .dataframe tbody tr th {\n",
       "        vertical-align: top;\n",
       "    }\n",
       "\n",
       "    .dataframe thead th {\n",
       "        text-align: right;\n",
       "    }\n",
       "</style>\n",
       "<table border=\"1\" class=\"dataframe\">\n",
       "  <thead>\n",
       "    <tr style=\"text-align: right;\">\n",
       "      <th></th>\n",
       "      <th>CupomID</th>\n",
       "      <th>ProdutoID</th>\n",
       "      <th>Quantidade</th>\n",
       "      <th>Valor</th>\n",
       "      <th>Desconto</th>\n",
       "      <th>Custo</th>\n",
       "      <th>ValorLiquido</th>\n",
       "    </tr>\n",
       "  </thead>\n",
       "  <tbody>\n",
       "    <tr>\n",
       "      <th>0</th>\n",
       "      <td>10308</td>\n",
       "      <td>69</td>\n",
       "      <td>1</td>\n",
       "      <td>2,12</td>\n",
       "      <td>0</td>\n",
       "      <td>1,8317</td>\n",
       "      <td>0,2883</td>\n",
       "    </tr>\n",
       "    <tr>\n",
       "      <th>1</th>\n",
       "      <td>10558</td>\n",
       "      <td>73</td>\n",
       "      <td>3</td>\n",
       "      <td>2,97</td>\n",
       "      <td>0</td>\n",
       "      <td>2,4057</td>\n",
       "      <td>0,5643</td>\n",
       "    </tr>\n",
       "    <tr>\n",
       "      <th>2</th>\n",
       "      <td>10259</td>\n",
       "      <td>37</td>\n",
       "      <td>1</td>\n",
       "      <td>4,37</td>\n",
       "      <td>0</td>\n",
       "      <td>3,7757</td>\n",
       "      <td>0,5943</td>\n",
       "    </tr>\n",
       "    <tr>\n",
       "      <th>3</th>\n",
       "      <td>11077</td>\n",
       "      <td>73</td>\n",
       "      <td>5</td>\n",
       "      <td>6,11</td>\n",
       "      <td>0,0605</td>\n",
       "      <td>5,838</td>\n",
       "      <td>0,2725</td>\n",
       "    </tr>\n",
       "    <tr>\n",
       "      <th>4</th>\n",
       "      <td>10752</td>\n",
       "      <td>69</td>\n",
       "      <td>3</td>\n",
       "      <td>6,57</td>\n",
       "      <td>0</td>\n",
       "      <td>5,3217</td>\n",
       "      <td>1,2483</td>\n",
       "    </tr>\n",
       "  </tbody>\n",
       "</table>\n",
       "</div>"
      ],
      "text/plain": [
       "   CupomID  ProdutoID  Quantidade Valor Desconto   Custo ValorLiquido\n",
       "0    10308         69           1  2,12        0  1,8317       0,2883\n",
       "1    10558         73           3  2,97        0  2,4057       0,5643\n",
       "2    10259         37           1  4,37        0  3,7757       0,5943\n",
       "3    11077         73           5  6,11   0,0605   5,838       0,2725\n",
       "4    10752         69           3  6,57        0  5,3217       1,2483"
      ]
     },
     "execution_count": 3,
     "metadata": {},
     "output_type": "execute_result"
    }
   ],
   "source": [
    "fatoDet0.head()"
   ]
  },
  {
   "cell_type": "code",
   "execution_count": 4,
   "metadata": {},
   "outputs": [
    {
     "name": "stdout",
     "output_type": "stream",
     "text": [
      "<class 'pandas.core.frame.DataFrame'>\n",
      "RangeIndex: 2172 entries, 0 to 2171\n",
      "Data columns (total 7 columns):\n",
      " #   Column        Non-Null Count  Dtype \n",
      "---  ------        --------------  ----- \n",
      " 0   CupomID       2172 non-null   int64 \n",
      " 1   ProdutoID     2172 non-null   int64 \n",
      " 2   Quantidade    2172 non-null   int64 \n",
      " 3   Valor         2172 non-null   object\n",
      " 4   Desconto      2172 non-null   object\n",
      " 5   Custo         2172 non-null   object\n",
      " 6   ValorLiquido  2172 non-null   object\n",
      "dtypes: int64(3), object(4)\n",
      "memory usage: 118.9+ KB\n"
     ]
    }
   ],
   "source": [
    "fatoDet0.info()"
   ]
  },
  {
   "cell_type": "code",
   "execution_count": 5,
   "metadata": {},
   "outputs": [
    {
     "data": {
      "text/plain": [
       "0           2,12\n",
       "1           2,97\n",
       "2           4,37\n",
       "3           6,11\n",
       "4           6,57\n",
       "          ...   \n",
       "2167     21077,2\n",
       "2168    21109,55\n",
       "2169     23334,6\n",
       "2170     32075,2\n",
       "2171    43755,12\n",
       "Name: Valor, Length: 2172, dtype: object"
      ]
     },
     "execution_count": 5,
     "metadata": {},
     "output_type": "execute_result"
    }
   ],
   "source": [
    "fatoDet0['Valor']"
   ]
  },
  {
   "cell_type": "markdown",
   "metadata": {},
   "source": [
    "## 1.1. Criando fatoDet1 para começar a mudança no dataset"
   ]
  },
  {
   "cell_type": "markdown",
   "metadata": {},
   "source": [
    "Trocando a ',' por '.' nas celulas, para depois poder mudar 'Object' para 'float'"
   ]
  },
  {
   "cell_type": "code",
   "execution_count": 6,
   "metadata": {},
   "outputs": [
    {
     "name": "stderr",
     "output_type": "stream",
     "text": [
      "<ipython-input-6-f713bea4aaff>:5: SettingWithCopyWarning: \n",
      "A value is trying to be set on a copy of a slice from a DataFrame\n",
      "\n",
      "See the caveats in the documentation: https://pandas.pydata.org/pandas-docs/stable/user_guide/indexing.html#returning-a-view-versus-a-copy\n",
      "  fatoDet1[n][l] = fatoDet0[n][l].replace(',','.')\n"
     ]
    }
   ],
   "source": [
    "fatoDet1 = fatoDet0.copy()\n",
    "for n in fatoDet0.columns[3:]:\n",
    "    for l in range(0,2172):\n",
    "        #print(n,'\\n',l)\n",
    "        fatoDet1[n][l] = fatoDet0[n][l].replace(',','.')"
   ]
  },
  {
   "cell_type": "code",
   "execution_count": 7,
   "metadata": {},
   "outputs": [
    {
     "data": {
      "text/html": [
       "<div>\n",
       "<style scoped>\n",
       "    .dataframe tbody tr th:only-of-type {\n",
       "        vertical-align: middle;\n",
       "    }\n",
       "\n",
       "    .dataframe tbody tr th {\n",
       "        vertical-align: top;\n",
       "    }\n",
       "\n",
       "    .dataframe thead th {\n",
       "        text-align: right;\n",
       "    }\n",
       "</style>\n",
       "<table border=\"1\" class=\"dataframe\">\n",
       "  <thead>\n",
       "    <tr style=\"text-align: right;\">\n",
       "      <th></th>\n",
       "      <th>CupomID</th>\n",
       "      <th>ProdutoID</th>\n",
       "      <th>Quantidade</th>\n",
       "      <th>Valor</th>\n",
       "      <th>Desconto</th>\n",
       "      <th>Custo</th>\n",
       "      <th>ValorLiquido</th>\n",
       "    </tr>\n",
       "  </thead>\n",
       "  <tbody>\n",
       "    <tr>\n",
       "      <th>0</th>\n",
       "      <td>10308</td>\n",
       "      <td>69</td>\n",
       "      <td>1</td>\n",
       "      <td>2.12</td>\n",
       "      <td>0</td>\n",
       "      <td>1.8317</td>\n",
       "      <td>0.2883</td>\n",
       "    </tr>\n",
       "    <tr>\n",
       "      <th>1</th>\n",
       "      <td>10558</td>\n",
       "      <td>73</td>\n",
       "      <td>3</td>\n",
       "      <td>2.97</td>\n",
       "      <td>0</td>\n",
       "      <td>2.4057</td>\n",
       "      <td>0.5643</td>\n",
       "    </tr>\n",
       "    <tr>\n",
       "      <th>2</th>\n",
       "      <td>10259</td>\n",
       "      <td>37</td>\n",
       "      <td>1</td>\n",
       "      <td>4.37</td>\n",
       "      <td>0</td>\n",
       "      <td>3.7757</td>\n",
       "      <td>0.5943</td>\n",
       "    </tr>\n",
       "    <tr>\n",
       "      <th>3</th>\n",
       "      <td>11077</td>\n",
       "      <td>73</td>\n",
       "      <td>5</td>\n",
       "      <td>6.11</td>\n",
       "      <td>0.0605</td>\n",
       "      <td>5.838</td>\n",
       "      <td>0.2725</td>\n",
       "    </tr>\n",
       "    <tr>\n",
       "      <th>4</th>\n",
       "      <td>10752</td>\n",
       "      <td>69</td>\n",
       "      <td>3</td>\n",
       "      <td>6.57</td>\n",
       "      <td>0</td>\n",
       "      <td>5.3217</td>\n",
       "      <td>1.2483</td>\n",
       "    </tr>\n",
       "  </tbody>\n",
       "</table>\n",
       "</div>"
      ],
      "text/plain": [
       "   CupomID  ProdutoID  Quantidade Valor Desconto   Custo ValorLiquido\n",
       "0    10308         69           1  2.12        0  1.8317       0.2883\n",
       "1    10558         73           3  2.97        0  2.4057       0.5643\n",
       "2    10259         37           1  4.37        0  3.7757       0.5943\n",
       "3    11077         73           5  6.11   0.0605   5.838       0.2725\n",
       "4    10752         69           3  6.57        0  5.3217       1.2483"
      ]
     },
     "execution_count": 7,
     "metadata": {},
     "output_type": "execute_result"
    }
   ],
   "source": [
    "fatoDet1.head()"
   ]
  },
  {
   "cell_type": "markdown",
   "metadata": {},
   "source": [
    "####################################################################\n",
    "\n",
    "Fazendo a mudança do tipo de dado, passando de 'object' para 'float'"
   ]
  },
  {
   "cell_type": "code",
   "execution_count": 8,
   "metadata": {},
   "outputs": [],
   "source": [
    "for n in fatoDet1.columns[3:]:\n",
    "    fatoDet1[n] = fatoDet1[n].astype(float)"
   ]
  },
  {
   "cell_type": "code",
   "execution_count": 9,
   "metadata": {},
   "outputs": [
    {
     "name": "stdout",
     "output_type": "stream",
     "text": [
      "<class 'pandas.core.frame.DataFrame'>\n",
      "RangeIndex: 2172 entries, 0 to 2171\n",
      "Data columns (total 7 columns):\n",
      " #   Column        Non-Null Count  Dtype  \n",
      "---  ------        --------------  -----  \n",
      " 0   CupomID       2172 non-null   int64  \n",
      " 1   ProdutoID     2172 non-null   int64  \n",
      " 2   Quantidade    2172 non-null   int64  \n",
      " 3   Valor         2172 non-null   float64\n",
      " 4   Desconto      2172 non-null   float64\n",
      " 5   Custo         2172 non-null   float64\n",
      " 6   ValorLiquido  2172 non-null   float64\n",
      "dtypes: float64(4), int64(3)\n",
      "memory usage: 118.9 KB\n"
     ]
    }
   ],
   "source": [
    "fatoDet1.info()"
   ]
  },
  {
   "cell_type": "markdown",
   "metadata": {},
   "source": [
    "####################################################################\n",
    "\n",
    "Descrevendo melhor as features numericas, retirando os IDs"
   ]
  },
  {
   "cell_type": "code",
   "execution_count": 10,
   "metadata": {},
   "outputs": [
    {
     "data": {
      "text/html": [
       "<div>\n",
       "<style scoped>\n",
       "    .dataframe tbody tr th:only-of-type {\n",
       "        vertical-align: middle;\n",
       "    }\n",
       "\n",
       "    .dataframe tbody tr th {\n",
       "        vertical-align: top;\n",
       "    }\n",
       "\n",
       "    .dataframe thead th {\n",
       "        text-align: right;\n",
       "    }\n",
       "</style>\n",
       "<table border=\"1\" class=\"dataframe\">\n",
       "  <thead>\n",
       "    <tr style=\"text-align: right;\">\n",
       "      <th></th>\n",
       "      <th>count</th>\n",
       "      <th>mean</th>\n",
       "      <th>std</th>\n",
       "      <th>min</th>\n",
       "      <th>25%</th>\n",
       "      <th>50%</th>\n",
       "      <th>75%</th>\n",
       "      <th>max</th>\n",
       "    </tr>\n",
       "  </thead>\n",
       "  <tbody>\n",
       "    <tr>\n",
       "      <th>Quantidade</th>\n",
       "      <td>2172.0</td>\n",
       "      <td>23.967311</td>\n",
       "      <td>19.189360</td>\n",
       "      <td>1.0000</td>\n",
       "      <td>10.000000</td>\n",
       "      <td>20.00000</td>\n",
       "      <td>30.00000</td>\n",
       "      <td>150.0000</td>\n",
       "    </tr>\n",
       "    <tr>\n",
       "      <th>Valor</th>\n",
       "      <td>2172.0</td>\n",
       "      <td>820.970622</td>\n",
       "      <td>2002.528358</td>\n",
       "      <td>2.1200</td>\n",
       "      <td>154.260000</td>\n",
       "      <td>355.07000</td>\n",
       "      <td>796.40000</td>\n",
       "      <td>43755.1200</td>\n",
       "    </tr>\n",
       "    <tr>\n",
       "      <th>Desconto</th>\n",
       "      <td>2172.0</td>\n",
       "      <td>49.608513</td>\n",
       "      <td>226.864961</td>\n",
       "      <td>0.0000</td>\n",
       "      <td>0.000000</td>\n",
       "      <td>0.00000</td>\n",
       "      <td>26.83500</td>\n",
       "      <td>7292.5201</td>\n",
       "    </tr>\n",
       "    <tr>\n",
       "      <th>Custo</th>\n",
       "      <td>2172.0</td>\n",
       "      <td>653.911917</td>\n",
       "      <td>1577.331337</td>\n",
       "      <td>1.8317</td>\n",
       "      <td>123.350075</td>\n",
       "      <td>282.27510</td>\n",
       "      <td>648.23760</td>\n",
       "      <td>32160.0132</td>\n",
       "    </tr>\n",
       "    <tr>\n",
       "      <th>ValorLiquido</th>\n",
       "      <td>2172.0</td>\n",
       "      <td>167.058479</td>\n",
       "      <td>455.554312</td>\n",
       "      <td>0.2725</td>\n",
       "      <td>25.181250</td>\n",
       "      <td>63.57665</td>\n",
       "      <td>148.11525</td>\n",
       "      <td>11595.1069</td>\n",
       "    </tr>\n",
       "  </tbody>\n",
       "</table>\n",
       "</div>"
      ],
      "text/plain": [
       "               count        mean          std     min         25%        50%  \\\n",
       "Quantidade    2172.0   23.967311    19.189360  1.0000   10.000000   20.00000   \n",
       "Valor         2172.0  820.970622  2002.528358  2.1200  154.260000  355.07000   \n",
       "Desconto      2172.0   49.608513   226.864961  0.0000    0.000000    0.00000   \n",
       "Custo         2172.0  653.911917  1577.331337  1.8317  123.350075  282.27510   \n",
       "ValorLiquido  2172.0  167.058479   455.554312  0.2725   25.181250   63.57665   \n",
       "\n",
       "                    75%         max  \n",
       "Quantidade     30.00000    150.0000  \n",
       "Valor         796.40000  43755.1200  \n",
       "Desconto       26.83500   7292.5201  \n",
       "Custo         648.23760  32160.0132  \n",
       "ValorLiquido  148.11525  11595.1069  "
      ]
     },
     "execution_count": 10,
     "metadata": {},
     "output_type": "execute_result"
    }
   ],
   "source": [
    "fatoDet1.describe().transpose()[2:]"
   ]
  },
  {
   "cell_type": "markdown",
   "metadata": {},
   "source": [
    "# 2. Vendo Fato Cabeçalho (entrega/venda)"
   ]
  },
  {
   "cell_type": "code",
   "execution_count": 11,
   "metadata": {},
   "outputs": [
    {
     "data": {
      "text/html": [
       "<div>\n",
       "<style scoped>\n",
       "    .dataframe tbody tr th:only-of-type {\n",
       "        vertical-align: middle;\n",
       "    }\n",
       "\n",
       "    .dataframe tbody tr th {\n",
       "        vertical-align: top;\n",
       "    }\n",
       "\n",
       "    .dataframe thead th {\n",
       "        text-align: right;\n",
       "    }\n",
       "</style>\n",
       "<table border=\"1\" class=\"dataframe\">\n",
       "  <thead>\n",
       "    <tr style=\"text-align: right;\">\n",
       "      <th></th>\n",
       "      <th>Data</th>\n",
       "      <th>ClienteID</th>\n",
       "      <th>FuncionarioID</th>\n",
       "      <th>ValorFrete</th>\n",
       "      <th>CupomID</th>\n",
       "      <th>EmpresaFrete</th>\n",
       "      <th>DataEntrega</th>\n",
       "    </tr>\n",
       "  </thead>\n",
       "  <tbody>\n",
       "    <tr>\n",
       "      <th>0</th>\n",
       "      <td>22/03/2018</td>\n",
       "      <td>78</td>\n",
       "      <td>11</td>\n",
       "      <td>12,45</td>\n",
       "      <td>11081</td>\n",
       "      <td>Freight Express</td>\n",
       "      <td>05/04/2018</td>\n",
       "    </tr>\n",
       "    <tr>\n",
       "      <th>1</th>\n",
       "      <td>21/11/2016</td>\n",
       "      <td>62</td>\n",
       "      <td>3</td>\n",
       "      <td>20,01</td>\n",
       "      <td>10637</td>\n",
       "      <td>One Liners</td>\n",
       "      <td>24/11/2016</td>\n",
       "    </tr>\n",
       "    <tr>\n",
       "      <th>2</th>\n",
       "      <td>16/09/2017</td>\n",
       "      <td>64</td>\n",
       "      <td>3</td>\n",
       "      <td>20,36</td>\n",
       "      <td>11019</td>\n",
       "      <td>One Liners</td>\n",
       "      <td>03/10/2017</td>\n",
       "    </tr>\n",
       "    <tr>\n",
       "      <th>3</th>\n",
       "      <td>02/07/2017</td>\n",
       "      <td>80</td>\n",
       "      <td>11</td>\n",
       "      <td>20,53</td>\n",
       "      <td>10982</td>\n",
       "      <td>Freight Express</td>\n",
       "      <td>04/07/2017</td>\n",
       "    </tr>\n",
       "    <tr>\n",
       "      <th>4</th>\n",
       "      <td>16/09/2016</td>\n",
       "      <td>28</td>\n",
       "      <td>5</td>\n",
       "      <td>20,61</td>\n",
       "      <td>10328</td>\n",
       "      <td>Ship for U</td>\n",
       "      <td>29/09/2016</td>\n",
       "    </tr>\n",
       "  </tbody>\n",
       "</table>\n",
       "</div>"
      ],
      "text/plain": [
       "         Data  ClienteID  FuncionarioID ValorFrete  CupomID     EmpresaFrete  \\\n",
       "0  22/03/2018         78             11      12,45    11081  Freight Express   \n",
       "1  21/11/2016         62              3      20,01    10637       One Liners   \n",
       "2  16/09/2017         64              3      20,36    11019       One Liners   \n",
       "3  02/07/2017         80             11      20,53    10982  Freight Express   \n",
       "4  16/09/2016         28              5      20,61    10328       Ship for U   \n",
       "\n",
       "  DataEntrega  \n",
       "0  05/04/2018  \n",
       "1  24/11/2016  \n",
       "2  03/10/2017  \n",
       "3  04/07/2017  \n",
       "4  29/09/2016  "
      ]
     },
     "execution_count": 11,
     "metadata": {},
     "output_type": "execute_result"
    }
   ],
   "source": [
    "fatoCab0.head()"
   ]
  },
  {
   "cell_type": "code",
   "execution_count": 12,
   "metadata": {},
   "outputs": [],
   "source": [
    "datas = ['Data','DataEntrega']\n",
    "fatoCab1 = fatoCab0.copy()\n",
    "for i in datas:\n",
    "    fatoCab1[i] = pd.to_datetime(fatoCab0[i],format='%d/%m/%Y')"
   ]
  },
  {
   "cell_type": "code",
   "execution_count": 13,
   "metadata": {},
   "outputs": [
    {
     "data": {
      "text/html": [
       "<div>\n",
       "<style scoped>\n",
       "    .dataframe tbody tr th:only-of-type {\n",
       "        vertical-align: middle;\n",
       "    }\n",
       "\n",
       "    .dataframe tbody tr th {\n",
       "        vertical-align: top;\n",
       "    }\n",
       "\n",
       "    .dataframe thead th {\n",
       "        text-align: right;\n",
       "    }\n",
       "</style>\n",
       "<table border=\"1\" class=\"dataframe\">\n",
       "  <thead>\n",
       "    <tr style=\"text-align: right;\">\n",
       "      <th></th>\n",
       "      <th>Data</th>\n",
       "      <th>ClienteID</th>\n",
       "      <th>FuncionarioID</th>\n",
       "      <th>ValorFrete</th>\n",
       "      <th>CupomID</th>\n",
       "      <th>EmpresaFrete</th>\n",
       "      <th>DataEntrega</th>\n",
       "    </tr>\n",
       "  </thead>\n",
       "  <tbody>\n",
       "    <tr>\n",
       "      <th>0</th>\n",
       "      <td>2018-03-22</td>\n",
       "      <td>78</td>\n",
       "      <td>11</td>\n",
       "      <td>12,45</td>\n",
       "      <td>11081</td>\n",
       "      <td>Freight Express</td>\n",
       "      <td>2018-04-05</td>\n",
       "    </tr>\n",
       "    <tr>\n",
       "      <th>1</th>\n",
       "      <td>2016-11-21</td>\n",
       "      <td>62</td>\n",
       "      <td>3</td>\n",
       "      <td>20,01</td>\n",
       "      <td>10637</td>\n",
       "      <td>One Liners</td>\n",
       "      <td>2016-11-24</td>\n",
       "    </tr>\n",
       "    <tr>\n",
       "      <th>2</th>\n",
       "      <td>2017-09-16</td>\n",
       "      <td>64</td>\n",
       "      <td>3</td>\n",
       "      <td>20,36</td>\n",
       "      <td>11019</td>\n",
       "      <td>One Liners</td>\n",
       "      <td>2017-10-03</td>\n",
       "    </tr>\n",
       "    <tr>\n",
       "      <th>3</th>\n",
       "      <td>2017-07-02</td>\n",
       "      <td>80</td>\n",
       "      <td>11</td>\n",
       "      <td>20,53</td>\n",
       "      <td>10982</td>\n",
       "      <td>Freight Express</td>\n",
       "      <td>2017-07-04</td>\n",
       "    </tr>\n",
       "    <tr>\n",
       "      <th>4</th>\n",
       "      <td>2016-09-16</td>\n",
       "      <td>28</td>\n",
       "      <td>5</td>\n",
       "      <td>20,61</td>\n",
       "      <td>10328</td>\n",
       "      <td>Ship for U</td>\n",
       "      <td>2016-09-29</td>\n",
       "    </tr>\n",
       "  </tbody>\n",
       "</table>\n",
       "</div>"
      ],
      "text/plain": [
       "        Data  ClienteID  FuncionarioID ValorFrete  CupomID     EmpresaFrete  \\\n",
       "0 2018-03-22         78             11      12,45    11081  Freight Express   \n",
       "1 2016-11-21         62              3      20,01    10637       One Liners   \n",
       "2 2017-09-16         64              3      20,36    11019       One Liners   \n",
       "3 2017-07-02         80             11      20,53    10982  Freight Express   \n",
       "4 2016-09-16         28              5      20,61    10328       Ship for U   \n",
       "\n",
       "  DataEntrega  \n",
       "0  2018-04-05  \n",
       "1  2016-11-24  \n",
       "2  2017-10-03  \n",
       "3  2017-07-04  \n",
       "4  2016-09-29  "
      ]
     },
     "execution_count": 13,
     "metadata": {},
     "output_type": "execute_result"
    }
   ],
   "source": [
    "fatoCab1.head()"
   ]
  },
  {
   "cell_type": "code",
   "execution_count": 14,
   "metadata": {},
   "outputs": [
    {
     "name": "stdout",
     "output_type": "stream",
     "text": [
      "<class 'pandas.core.frame.DataFrame'>\n",
      "RangeIndex: 836 entries, 0 to 835\n",
      "Data columns (total 7 columns):\n",
      " #   Column         Non-Null Count  Dtype         \n",
      "---  ------         --------------  -----         \n",
      " 0   Data           836 non-null    datetime64[ns]\n",
      " 1   ClienteID      836 non-null    int64         \n",
      " 2   FuncionarioID  836 non-null    int64         \n",
      " 3   ValorFrete     836 non-null    object        \n",
      " 4   CupomID        836 non-null    int64         \n",
      " 5   EmpresaFrete   836 non-null    object        \n",
      " 6   DataEntrega    836 non-null    datetime64[ns]\n",
      "dtypes: datetime64[ns](2), int64(3), object(2)\n",
      "memory usage: 45.8+ KB\n"
     ]
    }
   ],
   "source": [
    "fatoCab1.info()"
   ]
  },
  {
   "cell_type": "markdown",
   "metadata": {},
   "source": [
    "####################################################################\n",
    "\n",
    "Trocando virgulas por ponto nos numericos"
   ]
  },
  {
   "cell_type": "code",
   "execution_count": 15,
   "metadata": {},
   "outputs": [
    {
     "name": "stderr",
     "output_type": "stream",
     "text": [
      "<ipython-input-15-40a666c33c46>:2: SettingWithCopyWarning: \n",
      "A value is trying to be set on a copy of a slice from a DataFrame\n",
      "\n",
      "See the caveats in the documentation: https://pandas.pydata.org/pandas-docs/stable/user_guide/indexing.html#returning-a-view-versus-a-copy\n",
      "  fatoCab1['ValorFrete'][l] = fatoCab0['ValorFrete'][l].replace(',','.')\n"
     ]
    }
   ],
   "source": [
    "for l in range(0,836):\n",
    "    fatoCab1['ValorFrete'][l] = fatoCab0['ValorFrete'][l].replace(',','.')"
   ]
  },
  {
   "cell_type": "code",
   "execution_count": 16,
   "metadata": {},
   "outputs": [
    {
     "data": {
      "text/html": [
       "<div>\n",
       "<style scoped>\n",
       "    .dataframe tbody tr th:only-of-type {\n",
       "        vertical-align: middle;\n",
       "    }\n",
       "\n",
       "    .dataframe tbody tr th {\n",
       "        vertical-align: top;\n",
       "    }\n",
       "\n",
       "    .dataframe thead th {\n",
       "        text-align: right;\n",
       "    }\n",
       "</style>\n",
       "<table border=\"1\" class=\"dataframe\">\n",
       "  <thead>\n",
       "    <tr style=\"text-align: right;\">\n",
       "      <th></th>\n",
       "      <th>Data</th>\n",
       "      <th>ClienteID</th>\n",
       "      <th>FuncionarioID</th>\n",
       "      <th>ValorFrete</th>\n",
       "      <th>CupomID</th>\n",
       "      <th>EmpresaFrete</th>\n",
       "      <th>DataEntrega</th>\n",
       "    </tr>\n",
       "  </thead>\n",
       "  <tbody>\n",
       "    <tr>\n",
       "      <th>0</th>\n",
       "      <td>2018-03-22</td>\n",
       "      <td>78</td>\n",
       "      <td>11</td>\n",
       "      <td>12.45</td>\n",
       "      <td>11081</td>\n",
       "      <td>Freight Express</td>\n",
       "      <td>2018-04-05</td>\n",
       "    </tr>\n",
       "    <tr>\n",
       "      <th>1</th>\n",
       "      <td>2016-11-21</td>\n",
       "      <td>62</td>\n",
       "      <td>3</td>\n",
       "      <td>20.01</td>\n",
       "      <td>10637</td>\n",
       "      <td>One Liners</td>\n",
       "      <td>2016-11-24</td>\n",
       "    </tr>\n",
       "    <tr>\n",
       "      <th>2</th>\n",
       "      <td>2017-09-16</td>\n",
       "      <td>64</td>\n",
       "      <td>3</td>\n",
       "      <td>20.36</td>\n",
       "      <td>11019</td>\n",
       "      <td>One Liners</td>\n",
       "      <td>2017-10-03</td>\n",
       "    </tr>\n",
       "    <tr>\n",
       "      <th>3</th>\n",
       "      <td>2017-07-02</td>\n",
       "      <td>80</td>\n",
       "      <td>11</td>\n",
       "      <td>20.53</td>\n",
       "      <td>10982</td>\n",
       "      <td>Freight Express</td>\n",
       "      <td>2017-07-04</td>\n",
       "    </tr>\n",
       "    <tr>\n",
       "      <th>4</th>\n",
       "      <td>2016-09-16</td>\n",
       "      <td>28</td>\n",
       "      <td>5</td>\n",
       "      <td>20.61</td>\n",
       "      <td>10328</td>\n",
       "      <td>Ship for U</td>\n",
       "      <td>2016-09-29</td>\n",
       "    </tr>\n",
       "  </tbody>\n",
       "</table>\n",
       "</div>"
      ],
      "text/plain": [
       "        Data  ClienteID  FuncionarioID ValorFrete  CupomID     EmpresaFrete  \\\n",
       "0 2018-03-22         78             11      12.45    11081  Freight Express   \n",
       "1 2016-11-21         62              3      20.01    10637       One Liners   \n",
       "2 2017-09-16         64              3      20.36    11019       One Liners   \n",
       "3 2017-07-02         80             11      20.53    10982  Freight Express   \n",
       "4 2016-09-16         28              5      20.61    10328       Ship for U   \n",
       "\n",
       "  DataEntrega  \n",
       "0  2018-04-05  \n",
       "1  2016-11-24  \n",
       "2  2017-10-03  \n",
       "3  2017-07-04  \n",
       "4  2016-09-29  "
      ]
     },
     "execution_count": 16,
     "metadata": {},
     "output_type": "execute_result"
    }
   ],
   "source": [
    "fatoCab1.head()"
   ]
  },
  {
   "cell_type": "markdown",
   "metadata": {},
   "source": [
    "####################################################################\n",
    "\n",
    "Mudando a feature 'ValorFrete' de 'object' para 'float'"
   ]
  },
  {
   "cell_type": "code",
   "execution_count": 17,
   "metadata": {},
   "outputs": [],
   "source": [
    "fatoCab1['ValorFrete'] = fatoCab1['ValorFrete'].astype(float)\n",
    "fatoCab1['EmpresaFrete'] = fatoCab1['EmpresaFrete'].astype('category')"
   ]
  },
  {
   "cell_type": "code",
   "execution_count": 18,
   "metadata": {},
   "outputs": [
    {
     "name": "stdout",
     "output_type": "stream",
     "text": [
      "<class 'pandas.core.frame.DataFrame'>\n",
      "RangeIndex: 836 entries, 0 to 835\n",
      "Data columns (total 7 columns):\n",
      " #   Column         Non-Null Count  Dtype         \n",
      "---  ------         --------------  -----         \n",
      " 0   Data           836 non-null    datetime64[ns]\n",
      " 1   ClienteID      836 non-null    int64         \n",
      " 2   FuncionarioID  836 non-null    int64         \n",
      " 3   ValorFrete     836 non-null    float64       \n",
      " 4   CupomID        836 non-null    int64         \n",
      " 5   EmpresaFrete   836 non-null    category      \n",
      " 6   DataEntrega    836 non-null    datetime64[ns]\n",
      "dtypes: category(1), datetime64[ns](2), float64(1), int64(3)\n",
      "memory usage: 40.2 KB\n"
     ]
    }
   ],
   "source": [
    "fatoCab1.info()"
   ]
  },
  {
   "cell_type": "markdown",
   "metadata": {},
   "source": [
    "####################################################################\n",
    "\n",
    "Verificando melhor as features numericas"
   ]
  },
  {
   "cell_type": "code",
   "execution_count": 19,
   "metadata": {},
   "outputs": [
    {
     "data": {
      "text/html": [
       "<div>\n",
       "<style scoped>\n",
       "    .dataframe tbody tr th:only-of-type {\n",
       "        vertical-align: middle;\n",
       "    }\n",
       "\n",
       "    .dataframe tbody tr th {\n",
       "        vertical-align: top;\n",
       "    }\n",
       "\n",
       "    .dataframe thead th {\n",
       "        text-align: right;\n",
       "    }\n",
       "</style>\n",
       "<table border=\"1\" class=\"dataframe\">\n",
       "  <thead>\n",
       "    <tr style=\"text-align: right;\">\n",
       "      <th></th>\n",
       "      <th>count</th>\n",
       "      <th>mean</th>\n",
       "      <th>std</th>\n",
       "      <th>min</th>\n",
       "      <th>25%</th>\n",
       "      <th>50%</th>\n",
       "      <th>75%</th>\n",
       "      <th>max</th>\n",
       "    </tr>\n",
       "  </thead>\n",
       "  <tbody>\n",
       "    <tr>\n",
       "      <th>ValorFrete</th>\n",
       "      <td>836.0</td>\n",
       "      <td>50.164043</td>\n",
       "      <td>17.466742</td>\n",
       "      <td>12.45</td>\n",
       "      <td>34.685</td>\n",
       "      <td>49.865</td>\n",
       "      <td>65.7525</td>\n",
       "      <td>79.96</td>\n",
       "    </tr>\n",
       "    <tr>\n",
       "      <th>CupomID</th>\n",
       "      <td>836.0</td>\n",
       "      <td>10665.500000</td>\n",
       "      <td>241.476707</td>\n",
       "      <td>10248.00</td>\n",
       "      <td>10456.750</td>\n",
       "      <td>10665.500</td>\n",
       "      <td>10874.2500</td>\n",
       "      <td>11083.00</td>\n",
       "    </tr>\n",
       "  </tbody>\n",
       "</table>\n",
       "</div>"
      ],
      "text/plain": [
       "            count          mean         std       min        25%        50%  \\\n",
       "ValorFrete  836.0     50.164043   17.466742     12.45     34.685     49.865   \n",
       "CupomID     836.0  10665.500000  241.476707  10248.00  10456.750  10665.500   \n",
       "\n",
       "                   75%       max  \n",
       "ValorFrete     65.7525     79.96  \n",
       "CupomID     10874.2500  11083.00  "
      ]
     },
     "execution_count": 19,
     "metadata": {},
     "output_type": "execute_result"
    }
   ],
   "source": [
    "fatoCab1.describe().transpose()[2:]"
   ]
  },
  {
   "cell_type": "markdown",
   "metadata": {},
   "source": [
    "# 3. Vendo Dimensão (cliente)"
   ]
  },
  {
   "cell_type": "code",
   "execution_count": 20,
   "metadata": {},
   "outputs": [
    {
     "data": {
      "text/html": [
       "<div>\n",
       "<style scoped>\n",
       "    .dataframe tbody tr th:only-of-type {\n",
       "        vertical-align: middle;\n",
       "    }\n",
       "\n",
       "    .dataframe tbody tr th {\n",
       "        vertical-align: top;\n",
       "    }\n",
       "\n",
       "    .dataframe thead th {\n",
       "        text-align: right;\n",
       "    }\n",
       "</style>\n",
       "<table border=\"1\" class=\"dataframe\">\n",
       "  <thead>\n",
       "    <tr style=\"text-align: right;\">\n",
       "      <th></th>\n",
       "      <th>ClienteID</th>\n",
       "      <th>Cliente</th>\n",
       "      <th>NomeContato</th>\n",
       "      <th>Endereco</th>\n",
       "      <th>Cidade</th>\n",
       "      <th>Pais</th>\n",
       "      <th>PaisCodigo</th>\n",
       "      <th>Regiao</th>\n",
       "      <th>CEP</th>\n",
       "      <th>Latitude</th>\n",
       "      <th>Longitude</th>\n",
       "      <th>Fax</th>\n",
       "      <th>Telefone</th>\n",
       "    </tr>\n",
       "  </thead>\n",
       "  <tbody>\n",
       "    <tr>\n",
       "      <th>0</th>\n",
       "      <td>1</td>\n",
       "      <td>Eintrach GS</td>\n",
       "      <td>Albert von Einstein</td>\n",
       "      <td>Obere Str. 57</td>\n",
       "      <td>Berlin</td>\n",
       "      <td>Germany</td>\n",
       "      <td>DE</td>\n",
       "      <td>Europe</td>\n",
       "      <td>12209.0</td>\n",
       "      <td>52.401482</td>\n",
       "      <td>13.099724</td>\n",
       "      <td>030-0076545</td>\n",
       "      <td>030-0074321</td>\n",
       "    </tr>\n",
       "    <tr>\n",
       "      <th>1</th>\n",
       "      <td>2</td>\n",
       "      <td>La Tienda de la Esquina</td>\n",
       "      <td>Paco el Maco</td>\n",
       "      <td>Avda. de la Constitución 2222</td>\n",
       "      <td>Mexico City</td>\n",
       "      <td>Mexico</td>\n",
       "      <td>MX</td>\n",
       "      <td>North America</td>\n",
       "      <td>5021.0</td>\n",
       "      <td>19.631915</td>\n",
       "      <td>-99.133418</td>\n",
       "      <td>(5) 555-3745</td>\n",
       "      <td>(5) 555-4729</td>\n",
       "    </tr>\n",
       "    <tr>\n",
       "      <th>2</th>\n",
       "      <td>3</td>\n",
       "      <td>La Ropa Vieja</td>\n",
       "      <td>Sancho Panza</td>\n",
       "      <td>C/ Ritual de lo Habitual  2312</td>\n",
       "      <td>Mexico City</td>\n",
       "      <td>Mexico</td>\n",
       "      <td>MX</td>\n",
       "      <td>North America</td>\n",
       "      <td>5023.0</td>\n",
       "      <td>19.545652</td>\n",
       "      <td>-99.138955</td>\n",
       "      <td>NaN</td>\n",
       "      <td>(5) 555-3932</td>\n",
       "    </tr>\n",
       "    <tr>\n",
       "      <th>3</th>\n",
       "      <td>4</td>\n",
       "      <td>Dr Jims Trousers</td>\n",
       "      <td>Carl Montgomery</td>\n",
       "      <td>120 Hanover Sq.</td>\n",
       "      <td>London</td>\n",
       "      <td>UK</td>\n",
       "      <td>GB</td>\n",
       "      <td>Europe</td>\n",
       "      <td>NaN</td>\n",
       "      <td>51.541599</td>\n",
       "      <td>-0.224499</td>\n",
       "      <td>(171) 555-6750</td>\n",
       "      <td>(171) 555-7788</td>\n",
       "    </tr>\n",
       "    <tr>\n",
       "      <th>4</th>\n",
       "      <td>5</td>\n",
       "      <td>Urras Shop</td>\n",
       "      <td>Urra Gurra Aktersnurra</td>\n",
       "      <td>Berguvsvägen  8</td>\n",
       "      <td>Gothenburg</td>\n",
       "      <td>Sweden</td>\n",
       "      <td>SE</td>\n",
       "      <td>Europe</td>\n",
       "      <td>NaN</td>\n",
       "      <td>57.811813</td>\n",
       "      <td>12.226721</td>\n",
       "      <td>0921-12 34 67</td>\n",
       "      <td>0921-12 34 65</td>\n",
       "    </tr>\n",
       "  </tbody>\n",
       "</table>\n",
       "</div>"
      ],
      "text/plain": [
       "   ClienteID                  Cliente             NomeContato  \\\n",
       "0          1              Eintrach GS     Albert von Einstein   \n",
       "1          2  La Tienda de la Esquina            Paco el Maco   \n",
       "2          3            La Ropa Vieja            Sancho Panza   \n",
       "3          4         Dr Jims Trousers         Carl Montgomery   \n",
       "4          5               Urras Shop  Urra Gurra Aktersnurra   \n",
       "\n",
       "                         Endereco       Cidade     Pais PaisCodigo  \\\n",
       "0                   Obere Str. 57       Berlin  Germany         DE   \n",
       "1   Avda. de la Constitución 2222  Mexico City   Mexico         MX   \n",
       "2  C/ Ritual de lo Habitual  2312  Mexico City   Mexico         MX   \n",
       "3                 120 Hanover Sq.       London       UK         GB   \n",
       "4                 Berguvsvägen  8   Gothenburg   Sweden         SE   \n",
       "\n",
       "          Regiao      CEP   Latitude  Longitude             Fax  \\\n",
       "0         Europe  12209.0  52.401482  13.099724     030-0076545   \n",
       "1  North America   5021.0  19.631915 -99.133418    (5) 555-3745   \n",
       "2  North America   5023.0  19.545652 -99.138955             NaN   \n",
       "3         Europe      NaN  51.541599  -0.224499  (171) 555-6750   \n",
       "4         Europe      NaN  57.811813  12.226721   0921-12 34 67   \n",
       "\n",
       "         Telefone  \n",
       "0     030-0074321  \n",
       "1    (5) 555-4729  \n",
       "2    (5) 555-3932  \n",
       "3  (171) 555-7788  \n",
       "4   0921-12 34 65  "
      ]
     },
     "execution_count": 20,
     "metadata": {},
     "output_type": "execute_result"
    }
   ],
   "source": [
    "dim0.head()"
   ]
  },
  {
   "cell_type": "code",
   "execution_count": 21,
   "metadata": {},
   "outputs": [
    {
     "name": "stdout",
     "output_type": "stream",
     "text": [
      "<class 'pandas.core.frame.DataFrame'>\n",
      "RangeIndex: 90 entries, 0 to 89\n",
      "Data columns (total 13 columns):\n",
      " #   Column       Non-Null Count  Dtype  \n",
      "---  ------       --------------  -----  \n",
      " 0   ClienteID    90 non-null     int64  \n",
      " 1   Cliente      90 non-null     object \n",
      " 2   NomeContato  90 non-null     object \n",
      " 3   Endereco     90 non-null     object \n",
      " 4   Cidade       90 non-null     object \n",
      " 5   Pais         90 non-null     object \n",
      " 6   PaisCodigo   90 non-null     object \n",
      " 7   Regiao       90 non-null     object \n",
      " 8   CEP          66 non-null     float64\n",
      " 9   Latitude     90 non-null     float64\n",
      " 10  Longitude    90 non-null     float64\n",
      " 11  Fax          66 non-null     object \n",
      " 12  Telefone     88 non-null     object \n",
      "dtypes: float64(3), int64(1), object(9)\n",
      "memory usage: 9.3+ KB\n"
     ]
    }
   ],
   "source": [
    "dim0.info()"
   ]
  },
  {
   "cell_type": "markdown",
   "metadata": {},
   "source": [
    "####################################################################\n",
    "\n",
    "Fazendo a mudança do tipo de dado, de 'object' para 'category'"
   ]
  },
  {
   "cell_type": "code",
   "execution_count": 22,
   "metadata": {},
   "outputs": [],
   "source": [
    "dim1 = dim0.copy()\n",
    "for i in dim1.columns:\n",
    "    if(dim1[i].dtype == 'object'):\n",
    "        dim1[i] = dim1[i].astype('category')"
   ]
  },
  {
   "cell_type": "code",
   "execution_count": 23,
   "metadata": {},
   "outputs": [
    {
     "name": "stdout",
     "output_type": "stream",
     "text": [
      "<class 'pandas.core.frame.DataFrame'>\n",
      "RangeIndex: 90 entries, 0 to 89\n",
      "Data columns (total 13 columns):\n",
      " #   Column       Non-Null Count  Dtype   \n",
      "---  ------       --------------  -----   \n",
      " 0   ClienteID    90 non-null     int64   \n",
      " 1   Cliente      90 non-null     category\n",
      " 2   NomeContato  90 non-null     category\n",
      " 3   Endereco     90 non-null     category\n",
      " 4   Cidade       90 non-null     category\n",
      " 5   Pais         90 non-null     category\n",
      " 6   PaisCodigo   90 non-null     category\n",
      " 7   Regiao       90 non-null     category\n",
      " 8   CEP          66 non-null     float64 \n",
      " 9   Latitude     90 non-null     float64 \n",
      " 10  Longitude    90 non-null     float64 \n",
      " 11  Fax          66 non-null     category\n",
      " 12  Telefone     88 non-null     category\n",
      "dtypes: category(9), float64(3), int64(1)\n",
      "memory usage: 24.2 KB\n"
     ]
    }
   ],
   "source": [
    "dim1.info()"
   ]
  },
  {
   "cell_type": "markdown",
   "metadata": {},
   "source": [
    "# 4. Avaliando possíveis dados Nan"
   ]
  },
  {
   "cell_type": "code",
   "execution_count": 24,
   "metadata": {},
   "outputs": [],
   "source": [
    "def avaliando_NaN(df,colunas):\n",
    "    count = 0\n",
    "    for col in colunas:\n",
    "        if (df[str(col)].isnull().sum() >= 1):\n",
    "            print('Coluna que falta:',str(col))\n",
    "            print('Qnt linhas:',df[str(col)].isnull().sum())\n",
    "            print('\\n')\n",
    "            count = count + 1\n",
    "        \n",
    "    print('Quantidade de colunas com NaN:',count)"
   ]
  },
  {
   "cell_type": "code",
   "execution_count": 25,
   "metadata": {},
   "outputs": [
    {
     "name": "stdout",
     "output_type": "stream",
     "text": [
      "Quantidade de colunas com NaN: 0\n",
      "Quantidade de colunas com NaN: 0\n",
      "Coluna que falta: CEP\n",
      "Qnt linhas: 24\n",
      "\n",
      "\n",
      "Coluna que falta: Fax\n",
      "Qnt linhas: 24\n",
      "\n",
      "\n",
      "Coluna que falta: Telefone\n",
      "Qnt linhas: 2\n",
      "\n",
      "\n",
      "Quantidade de colunas com NaN: 3\n"
     ]
    }
   ],
   "source": [
    "colunasFC1 = fatoCab1.columns\n",
    "colunasFD1 = fatoDet1.columns\n",
    "colunasDim = dim1.columns\n",
    "\n",
    "avaliando_NaN(fatoCab1,colunasFC1)\n",
    "avaliando_NaN(fatoDet1,colunasFD1)\n",
    "avaliando_NaN(dim1,colunasDim)"
   ]
  },
  {
   "cell_type": "code",
   "execution_count": null,
   "metadata": {},
   "outputs": [],
   "source": []
  }
 ],
 "metadata": {
  "kernelspec": {
   "display_name": "Python 3",
   "language": "python",
   "name": "python3"
  },
  "language_info": {
   "codemirror_mode": {
    "name": "ipython",
    "version": 3
   },
   "file_extension": ".py",
   "mimetype": "text/x-python",
   "name": "python",
   "nbconvert_exporter": "python",
   "pygments_lexer": "ipython3",
   "version": "3.8.3"
  }
 },
 "nbformat": 4,
 "nbformat_minor": 4
}
